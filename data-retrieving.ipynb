{
 "cells": [
  {
   "cell_type": "code",
   "execution_count": 1,
   "id": "7cf5953f",
   "metadata": {},
   "outputs": [
    {
     "name": "stdout",
     "output_type": "stream",
     "text": [
      "Requirement already satisfied: spotipy in c:\\users\\aleiv\\anaconda3\\lib\\site-packages (2.25.1)\n",
      "Requirement already satisfied: redis>=3.5.3 in c:\\users\\aleiv\\anaconda3\\lib\\site-packages (from spotipy) (5.2.1)\n",
      "Requirement already satisfied: requests>=2.25.0 in c:\\users\\aleiv\\anaconda3\\lib\\site-packages (from spotipy) (2.32.3)\n",
      "Requirement already satisfied: urllib3>=1.26.0 in c:\\users\\aleiv\\anaconda3\\lib\\site-packages (from spotipy) (2.2.3)\n",
      "Requirement already satisfied: charset-normalizer<4,>=2 in c:\\users\\aleiv\\anaconda3\\lib\\site-packages (from requests>=2.25.0->spotipy) (3.3.2)\n",
      "Requirement already satisfied: idna<4,>=2.5 in c:\\users\\aleiv\\anaconda3\\lib\\site-packages (from requests>=2.25.0->spotipy) (3.7)\n",
      "Requirement already satisfied: certifi>=2017.4.17 in c:\\users\\aleiv\\anaconda3\\lib\\site-packages (from requests>=2.25.0->spotipy) (2024.12.14)\n"
     ]
    }
   ],
   "source": [
    "!pip install spotipy"
   ]
  },
  {
   "cell_type": "code",
   "execution_count": 29,
   "id": "8810cc4c",
   "metadata": {},
   "outputs": [],
   "source": [
    "import spotipy\n",
    "import json\n",
    "import csv\n",
    "import pandas as pd"
   ]
  },
  {
   "cell_type": "code",
   "execution_count": 3,
   "id": "fa1211e4",
   "metadata": {},
   "outputs": [],
   "source": [
    "from spotipy.oauth2 import SpotifyClientCredentials"
   ]
  },
  {
   "cell_type": "code",
   "execution_count": 4,
   "id": "97167fc0",
   "metadata": {},
   "outputs": [],
   "source": [
    "# Coloca tus credenciales aquí\n",
    "CLIENT_ID = '04f685005f584087a8cd9fada4a373f5'\n",
    "CLIENT_SECRET = '95e82b9914dc42e2a82ab0132df82dfb'\n",
    "\n",
    "# Autenticación\n",
    "auth_manager = SpotifyClientCredentials(client_id=CLIENT_ID, client_secret=CLIENT_SECRET)\n",
    "sp = spotipy.Spotify(auth_manager=auth_manager)"
   ]
  },
  {
   "cell_type": "code",
   "execution_count": 5,
   "id": "21aabd34",
   "metadata": {},
   "outputs": [],
   "source": [
    "# Para obtener los primeros 1000 de los cuatro géneros principales del 2019\n",
    "\n",
    "# Function to get all tracks from a specific genre and year\n",
    "def get_all_genero_tracks_2019(genero):\n",
    "    all_tracks = []\n",
    "    limit = 50\n",
    "    offset = 0\n",
    "\n",
    "    while True:\n",
    "        query = f\"genre:{genero} year:2019\"\n",
    "        results = sp.search(q=query, type='track', limit=limit, offset=offset)\n",
    "        tracks = results['tracks']['items']\n",
    "\n",
    "        \n",
    "        if not tracks:\n",
    "            break\n",
    "\n",
    "        all_tracks.extend(tracks)\n",
    "        offset += limit\n",
    "\n",
    "        #API limit reached?\n",
    "        if offset >=1000:\n",
    "            break\n",
    "    return all_tracks\n",
    "\n"
   ]
  },
  {
   "cell_type": "code",
   "execution_count": null,
   "id": "cc955193",
   "metadata": {},
   "outputs": [],
   "source": [
    "# Dictionary to store tracks for each genre\n",
    "tracks_by_genre = {}\n",
    "\n",
    "# Loop through different genres and get tracks for each\n",
    "for genero in ('pop', 'urban', 'edm', 'rock'):\n",
    "    tracks_by_genre[genero] = get_all_genero_tracks_2019(genero)\n",
    "\n",
    "#pop_tracks = tracks_by_genre['pop']\n",
    "#urban_tracks = tracks_by_genre['urban']\n",
    "#edm_tracks = tracks_by_genre['edm']\n",
    "#rock_tracks = tracks_by_genre['rock']\n",
    "\n"
   ]
  },
  {
   "cell_type": "code",
   "execution_count": 14,
   "id": "eb13f61e",
   "metadata": {},
   "outputs": [],
   "source": [
    "resultados_totales = []\n",
    "\n",
    "for genero in ('pop', 'urban', 'edm', 'rock'):\n",
    "    for item in tracks_by_genre[genero]:\n",
    "        resultados_totales.append({\n",
    "                'name_track': item['name'],\n",
    "                'name_artist': item['artists'][0]['name'],\n",
    "                'genre': f\"{genero}\", #no lo devuelve, lo tengo que poner según el género que esté buscando\n",
    "                'type': item['type'], \n",
    "                'year': item['album']['release_date'][:4] })"
   ]
  },
  {
   "cell_type": "code",
   "execution_count": 19,
   "id": "4d5271d2",
   "metadata": {},
   "outputs": [],
   "source": [
    "resultados = json.dumps(resultados_totales)"
   ]
  },
  {
   "cell_type": "code",
   "execution_count": 30,
   "id": "51786f9c",
   "metadata": {},
   "outputs": [],
   "source": [
    "df = pd.DataFrame(resultados_totales)\n",
    "df.to_csv('resultados.csv')"
   ]
  }
 ],
 "metadata": {
  "kernelspec": {
   "display_name": "base",
   "language": "python",
   "name": "python3"
  },
  "language_info": {
   "codemirror_mode": {
    "name": "ipython",
    "version": 3
   },
   "file_extension": ".py",
   "mimetype": "text/x-python",
   "name": "python",
   "nbconvert_exporter": "python",
   "pygments_lexer": "ipython3",
   "version": "3.12.7"
  }
 },
 "nbformat": 4,
 "nbformat_minor": 5
}
